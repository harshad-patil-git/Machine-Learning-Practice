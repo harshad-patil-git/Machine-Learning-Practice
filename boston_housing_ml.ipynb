{
  "nbformat": 4,
  "nbformat_minor": 0,
  "metadata": {
    "colab": {
      "name": "boston_housing_ml.ipynb",
      "provenance": [],
      "collapsed_sections": []
    },
    "kernelspec": {
      "name": "python3",
      "display_name": "Python 3"
    }
  },
  "cells": [
    {
      "cell_type": "code",
      "metadata": {
        "id": "1pHfK6oNpq1w"
      },
      "source": [
        "!python --version"
      ],
      "execution_count": null,
      "outputs": []
    },
    {
      "cell_type": "code",
      "metadata": {
        "id": "UfOa1CC9dfHQ"
      },
      "source": [
        "# Import fundamental packages for scientific computing\r\n",
        "import math\r\n",
        "import numpy as np\r\n",
        "import pandas as pd\r\n",
        "import seaborn as sns\r\n",
        "import matplotlib.pyplot as plt"
      ],
      "execution_count": null,
      "outputs": []
    },
    {
      "cell_type": "code",
      "metadata": {
        "id": "vcxB9NEQdzjW"
      },
      "source": [
        "# Import load_boston() function\r\n",
        "from sklearn.datasets import load_boston"
      ],
      "execution_count": null,
      "outputs": []
    },
    {
      "cell_type": "code",
      "metadata": {
        "id": "ZzrjF1bWenzQ"
      },
      "source": [
        "# Load required functions from skearn library\r\n",
        "from sklearn import linear_model\r\n",
        "from sklearn.preprocessing import StandardScaler\r\n",
        "from sklearn.linear_model import LinearRegression, Lasso, Ridge\r\n",
        "from sklearn.model_selection import train_test_split\r\n",
        "from sklearn.model_selection import cross_val_score\r\n",
        "from sklearn.metrics import mean_squared_error, r2_score"
      ],
      "execution_count": null,
      "outputs": []
    },
    {
      "cell_type": "code",
      "metadata": {
        "id": "oVAt3NKVhv-W"
      },
      "source": [
        "# Print Python library versions\r\n",
        "print('numpy version: {}'.format(np.__version__))\r\n",
        "print('pandas version: {}'.format(pd.__version__))\r\n",
        "print('seaborn version: {}'.format(sns.__version__))"
      ],
      "execution_count": null,
      "outputs": []
    },
    {
      "cell_type": "code",
      "metadata": {
        "id": "eseJwb8ad8_F"
      },
      "source": [
        "# Load_boston dataset will return bunch object containing all the required information about boston housing dataset\r\n",
        "boston = load_boston(return_X_y=False)"
      ],
      "execution_count": null,
      "outputs": []
    },
    {
      "cell_type": "code",
      "metadata": {
        "id": "ZuYjX1RHlVGF"
      },
      "source": [
        "# Print the type of above loaded object\r\n",
        "type(boston)"
      ],
      "execution_count": null,
      "outputs": []
    },
    {
      "cell_type": "code",
      "metadata": {
        "id": "2icBXI92o9SH"
      },
      "source": [
        "# Display all the available keys\r\n",
        "boston.keys()"
      ],
      "execution_count": null,
      "outputs": []
    },
    {
      "cell_type": "code",
      "metadata": {
        "id": "VDorUEqOlqAT"
      },
      "source": [
        "# Print descriptive information about boston housing \r\n",
        "print(boston.DESCR)"
      ],
      "execution_count": null,
      "outputs": []
    },
    {
      "cell_type": "code",
      "metadata": {
        "id": "8JYRrjglljxn"
      },
      "source": [
        "# Print all the feature names of boston dataset\r\n",
        "print(boston.feature_names)"
      ],
      "execution_count": null,
      "outputs": []
    },
    {
      "cell_type": "code",
      "metadata": {
        "id": "7OT4FjIwbHqk"
      },
      "source": [
        "columns_list = list(boston.feature_names)\r\n",
        "columns_list.append('MEDV')"
      ],
      "execution_count": null,
      "outputs": []
    },
    {
      "cell_type": "code",
      "metadata": {
        "id": "oOjxjnHuXmt3"
      },
      "source": [
        "# Create Pandas dataframe from objects loaded bunch object 'boston'\r\n",
        "boston_df = pd.DataFrame(data = np.c_[boston.data, boston.target], columns = columns_list)"
      ],
      "execution_count": null,
      "outputs": []
    },
    {
      "cell_type": "code",
      "metadata": {
        "id": "YVReX67uYAkk"
      },
      "source": [
        "# Print the number of rows and columns in the boston housing dataframe\r\n",
        "print('Number of rows: {}'.format(boston_df.shape[0]))\r\n",
        "print('Number of columns: {}'.format(boston_df.shape[1]))"
      ],
      "execution_count": null,
      "outputs": []
    },
    {
      "cell_type": "code",
      "metadata": {
        "id": "b1DGvUw9Yo8f"
      },
      "source": [
        "# Print top 5 records of created dataframe\r\n",
        "boston_df.head(n=5)"
      ],
      "execution_count": null,
      "outputs": []
    },
    {
      "cell_type": "code",
      "metadata": {
        "id": "zzR1Dcp6bony"
      },
      "source": [
        "boston_df.describe(include='all')"
      ],
      "execution_count": null,
      "outputs": []
    },
    {
      "cell_type": "code",
      "metadata": {
        "id": "2CSRny1zfNcF"
      },
      "source": [
        "boston_df.info()"
      ],
      "execution_count": null,
      "outputs": []
    },
    {
      "cell_type": "markdown",
      "metadata": {
        "id": "YB5_0DoZfS22"
      },
      "source": [
        "As per above output, there are no missing values in any of the attribtutes. Good!!"
      ]
    },
    {
      "cell_type": "code",
      "metadata": {
        "id": "ASf7bta4gnqs"
      },
      "source": [
        "# Create dataframe of correlation matrix\r\n",
        "corr = boston_df.corr()"
      ],
      "execution_count": null,
      "outputs": []
    },
    {
      "cell_type": "code",
      "metadata": {
        "id": "uKrYkvtThfjh"
      },
      "source": [
        "# Plot the correlation matrix\r\n",
        "fig = plt.figure(figsize=(16,16))\r\n",
        "sns.heatmap(corr, annot=True)\r\n",
        "plt.show()"
      ],
      "execution_count": null,
      "outputs": []
    },
    {
      "cell_type": "code",
      "metadata": {
        "id": "1iUF6FSWxVpx"
      },
      "source": [
        "#sns.set_theme(style='ticks')\r\n",
        "#sns.pairplot(data=boston_df)\r\n",
        "#plt.show()"
      ],
      "execution_count": null,
      "outputs": []
    },
    {
      "cell_type": "code",
      "metadata": {
        "id": "Y1rjpj1UiMlV"
      },
      "source": [
        "# Plot the boxplot of target variable MEDV\r\n",
        "fig = plt.figure(figsize=(15,7))\r\n",
        "sns.boxplot(x = boston_df['MEDV'], width=0.5,palette='Set3')\r\n",
        "plt.show()"
      ],
      "execution_count": null,
      "outputs": []
    },
    {
      "cell_type": "code",
      "metadata": {
        "id": "At1ulMcDeMRT"
      },
      "source": [
        "X = boston.data\r\n",
        "Y = boston.target"
      ],
      "execution_count": null,
      "outputs": []
    },
    {
      "cell_type": "code",
      "metadata": {
        "id": "UvrrcifLeRx7"
      },
      "source": [
        "# Split the data into train and test\r\n",
        "X_train, X_test, Y_train, Y_test = train_test_split(X, Y, test_size=0.2, random_state=4)"
      ],
      "execution_count": null,
      "outputs": []
    },
    {
      "cell_type": "code",
      "metadata": {
        "id": "13twIuI9gRbr"
      },
      "source": [
        "# Print number of observations in training datset\r\n",
        "print('Rows in Training datset: {}'.format(X_train.shape[0]))"
      ],
      "execution_count": null,
      "outputs": []
    },
    {
      "cell_type": "code",
      "metadata": {
        "id": "BpAyXRM0gV7a"
      },
      "source": [
        "# Print number of observations in test datset\r\n",
        "print('Rows in Test datset: {}'.format(X_test.shape[0]))"
      ],
      "execution_count": null,
      "outputs": []
    },
    {
      "cell_type": "code",
      "metadata": {
        "id": "bIVR5csbgXye"
      },
      "source": [
        "# Instantiate object of LinearRegression class\r\n",
        "model = LinearRegression(fit_intercept=True)  "
      ],
      "execution_count": null,
      "outputs": []
    },
    {
      "cell_type": "code",
      "metadata": {
        "id": "pRfGDxAIh9HS"
      },
      "source": [
        "# Fit the Least Square Regression model to the training data\r\n",
        "model.fit(X_train, Y_train)"
      ],
      "execution_count": null,
      "outputs": []
    },
    {
      "cell_type": "code",
      "metadata": {
        "id": "1B3GBpRjiOc7"
      },
      "source": [
        "# Model intercept\r\n",
        "print(model.intercept_)"
      ],
      "execution_count": null,
      "outputs": []
    },
    {
      "cell_type": "code",
      "metadata": {
        "id": "zpzKNZzriVQm"
      },
      "source": [
        "# Estimated coefficients\r\n",
        "print(model.coef_)"
      ],
      "execution_count": null,
      "outputs": []
    },
    {
      "cell_type": "markdown",
      "metadata": {
        "id": "xUSc8PkOjsLL"
      },
      "source": [
        "**Estimated linear model equation**\r\n",
        "#### Y ~ 35.55 - 0.115 * CRIM + 0.0471 * ZN + 0.008 * INDUS +  3.234 * CHAS - 16.686 * NOX + 3.884 * RM-0.010 * AGE - 1.541 * DIS + 0.293 * RAD - 0.013 * TAX - 0.0906 * PTRATIO + 0.0088 * B - 0.457 * LSTAT"
      ]
    },
    {
      "cell_type": "code",
      "metadata": {
        "id": "DzOq0KDDhNBz"
      },
      "source": [
        "# Predict the median housing values for test data\r\n",
        "Y_pred = model.predict(X_test)"
      ],
      "execution_count": null,
      "outputs": []
    },
    {
      "cell_type": "code",
      "metadata": {
        "id": "v1h9ql6_u8GY"
      },
      "source": [
        "# Calculate residuals\r\n",
        "residuals = Y_test - Y_pred\r\n",
        "print(residuals)"
      ],
      "execution_count": null,
      "outputs": []
    },
    {
      "cell_type": "code",
      "metadata": {
        "id": "X-w5H7SC5c_R"
      },
      "source": [
        "model.score(X_train, Y_train)"
      ],
      "execution_count": null,
      "outputs": []
    },
    {
      "cell_type": "code",
      "metadata": {
        "id": "5sLzeLGS42Za"
      },
      "source": [
        "model.score(X_test, Y_test)"
      ],
      "execution_count": null,
      "outputs": []
    },
    {
      "cell_type": "code",
      "metadata": {
        "id": "jzHgEnehiHD6"
      },
      "source": [
        "# Calculate & print Mean Squared Error (MSE) & Root Mean Squared Error (RMSE)\r\n",
        "MSE = mean_squared_error(Y_test, Y_pred)\r\n",
        "RMSE = math.sqrt(MSE)\r\n",
        "print('Mean Squared Error (MSE): {0:.2f}'.format(MSE))\r\n",
        "print('Root Mean Squared Error (MSE): {0:.2f}'.format(RMSE))"
      ],
      "execution_count": null,
      "outputs": []
    },
    {
      "cell_type": "code",
      "metadata": {
        "id": "a5HIBBvvi0jr"
      },
      "source": [
        "# Calculate coefficient of determination (R²)\r\n",
        "r2_test = r2_score(Y_test, Y_pred)\r\n",
        "print('Coefficient of determination: {0:.2f}'.format(r2_test))"
      ],
      "execution_count": null,
      "outputs": []
    },
    {
      "cell_type": "code",
      "metadata": {
        "id": "zqZEAN773IWJ"
      },
      "source": [
        "model = LinearRegression(fit_intercept=True)"
      ],
      "execution_count": null,
      "outputs": []
    },
    {
      "cell_type": "code",
      "metadata": {
        "id": "FKYf3Yua3c4O"
      },
      "source": [
        "mse = cross_val_score(model, X_train, Y_train, scoring='neg_mean_squared_error', cv = 10)"
      ],
      "execution_count": null,
      "outputs": []
    },
    {
      "cell_type": "code",
      "metadata": {
        "id": "QWZ7GNq733dE"
      },
      "source": [
        "print(np.mean(mse))"
      ],
      "execution_count": null,
      "outputs": []
    },
    {
      "cell_type": "markdown",
      "metadata": {
        "id": "YBz36Pg8FkdR"
      },
      "source": [
        "## Fitting Lasso regularized regression model"
      ]
    },
    {
      "cell_type": "code",
      "metadata": {
        "id": "f6ETJq4F7Cjc"
      },
      "source": [
        "lasso_rig = Lasso(fit_intercept=True, alpha=0.5, max_iter = 1000, tol=0.001)"
      ],
      "execution_count": null,
      "outputs": []
    },
    {
      "cell_type": "code",
      "metadata": {
        "id": "5fObotrZ89FE"
      },
      "source": [
        "model = lasso_rig.fit(X_train, Y_train)"
      ],
      "execution_count": null,
      "outputs": []
    },
    {
      "cell_type": "code",
      "metadata": {
        "id": "JiEOAITq9D_z"
      },
      "source": [
        "model.score(X_train, Y_train)"
      ],
      "execution_count": null,
      "outputs": []
    },
    {
      "cell_type": "code",
      "metadata": {
        "id": "OdrbzhOk9MWa"
      },
      "source": [
        "model.score(X_test, Y_test)"
      ],
      "execution_count": null,
      "outputs": []
    },
    {
      "cell_type": "markdown",
      "metadata": {
        "id": "_mBZgjGDE1fR"
      },
      "source": [
        "## Fitting Ridge regularized regression model"
      ]
    },
    {
      "cell_type": "code",
      "metadata": {
        "id": "jhq7DsM99QBj"
      },
      "source": [
        "ridge_rig = Ridge(fit_intercept=True, alpha=0.5, max_iter = 1000, tol=0.001)"
      ],
      "execution_count": null,
      "outputs": []
    },
    {
      "cell_type": "code",
      "metadata": {
        "id": "kTlh6_0n-gJc"
      },
      "source": [
        "model = ridge_rig.fit(X_train, Y_train)"
      ],
      "execution_count": null,
      "outputs": []
    },
    {
      "cell_type": "code",
      "metadata": {
        "id": "IJpto9tG-jHS"
      },
      "source": [
        "model.score(X_train, Y_train)"
      ],
      "execution_count": null,
      "outputs": []
    },
    {
      "cell_type": "code",
      "metadata": {
        "id": "ybloyjuB-lK6"
      },
      "source": [
        "model.score(X_test, Y_test)"
      ],
      "execution_count": null,
      "outputs": []
    },
    {
      "cell_type": "markdown",
      "metadata": {
        "id": "M5mkkg57EShQ"
      },
      "source": [
        "## Fitting Linear Regression model after standardizing features"
      ]
    },
    {
      "cell_type": "code",
      "metadata": {
        "id": "dzP1AgzR-nSy"
      },
      "source": [
        "sc_X = StandardScaler()"
      ],
      "execution_count": null,
      "outputs": []
    },
    {
      "cell_type": "code",
      "metadata": {
        "id": "ZEmozdI5A4h1"
      },
      "source": [
        "X_train = sc_X.fit_transform(X_train)\r\n",
        "X_test = sc_X.transform(X_test)"
      ],
      "execution_count": null,
      "outputs": []
    },
    {
      "cell_type": "code",
      "metadata": {
        "id": "RIHbbCKdBQua"
      },
      "source": [
        "model = LinearRegression(fit_intercept=True)"
      ],
      "execution_count": null,
      "outputs": []
    },
    {
      "cell_type": "code",
      "metadata": {
        "id": "DV74RqseC7_s"
      },
      "source": [
        "model.fit(X_train, Y_train)"
      ],
      "execution_count": null,
      "outputs": []
    },
    {
      "cell_type": "code",
      "metadata": {
        "id": "PeETy7ZADAZB"
      },
      "source": [
        "model.score(X_train, Y_train)"
      ],
      "execution_count": null,
      "outputs": []
    },
    {
      "cell_type": "code",
      "metadata": {
        "id": "Cp7IeIqODJA5"
      },
      "source": [
        "model.score(X_test, Y_test)"
      ],
      "execution_count": null,
      "outputs": []
    }
  ]
}